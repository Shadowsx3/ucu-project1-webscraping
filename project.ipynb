{
 "cells": [
  {
   "cell_type": "markdown",
   "metadata": {},
   "source": [
    "# UCU 2024 - Proyecto 1\n",
    "Web Scraping - Proyecto para la asignatura Programación para Análisis de Datos"
   ]
  },
  {
   "cell_type": "code",
   "execution_count": 2,
   "metadata": {},
   "outputs": [],
   "source": [
    "import requests\n",
    "from bs4 import BeautifulSoup\n",
    "import json"
   ]
  },
  {
   "cell_type": "markdown",
   "metadata": {},
   "source": [
    "Set constants"
   ]
  },
  {
   "cell_type": "code",
   "execution_count": 4,
   "metadata": {},
   "outputs": [],
   "source": [
    "URL = \"https://www.infocasas.com.uy/venta/inmuebles\"\n",
    "CITIES = (\"montevideo\", \"maldonado\", \"canelones\")"
   ]
  },
  {
   "cell_type": "markdown",
   "metadata": {},
   "source": [
    "Get info"
   ]
  },
  {
   "cell_type": "code",
   "execution_count": 54,
   "metadata": {},
   "outputs": [],
   "source": [
    "properties = {\n",
    "  \"ciudades\": []\n",
    "}\n",
    "\n",
    "for city in CITIES:\n",
    "    city_info = {\n",
    "      \"nombre\": city.title(),\n",
    "      \"propiedades\": []\n",
    "    }\n",
    "\n",
    "    req = requests.get(f\"{URL}/{city}\", headers={\"User-Agent\": \"Mozilla/5.0 (Windows NT 10.0; Win64; x64)\"})\n",
    "    soup = BeautifulSoup(req.text)\n",
    "    properties_html = soup.find_all(\"div\", {\"class\": \"lc-dataWrapper\"})\n",
    "    for property in properties_html:\n",
    "        price = property.find(\"div\", class_=\"lc-price\").text or \"U$S 0\"\n",
    "\n",
    "        info = property.find(\"div\", class_=\"lc-typologyTag\").findAll(\"strong\")\n",
    "        tamano = next((x.text for x in info if \"m²\" in x.text), \"0 m²\")\n",
    "        habitaciones = next((x.text for x in info if \"Dorm\" in x.text), \"0 Dorm.\")\n",
    "\n",
    "        link = property.find(\"a\")['href']\n",
    "\n",
    "        try:\n",
    "          property_info = {\n",
    "            \"precio\": price.split()[-1],\n",
    "            \"tamano\": int(tamano.split()[0]),\n",
    "            \"habitaciones\": int(habitaciones.split()[0]),\n",
    "            \"link\": f\"https://www.infocasas.com.uy{link}\"\n",
    "          }\n",
    "          city_info[\"propiedades\"].append(property_info)\n",
    "        except Exception as e:\n",
    "          print(f\"Error parsing property: {e.__cause__}\")\n",
    "\n",
    "\n",
    "    properties[\"ciudades\"].append(city_info)"
   ]
  },
  {
   "cell_type": "markdown",
   "metadata": {},
   "source": [
    "And create the json file"
   ]
  },
  {
   "cell_type": "code",
   "execution_count": 55,
   "metadata": {},
   "outputs": [],
   "source": [
    "with open(\"propiedades.json\", \"w\") as json_file:\n",
    "    json_file.write(json.dumps(properties, indent=3))"
   ]
  }
 ],
 "metadata": {
  "kernelspec": {
   "display_name": "Python 3",
   "language": "python",
   "name": "python3"
  },
  "language_info": {
   "codemirror_mode": {
    "name": "ipython",
    "version": 3
   },
   "file_extension": ".py",
   "mimetype": "text/x-python",
   "name": "python",
   "nbconvert_exporter": "python",
   "pygments_lexer": "ipython3",
   "version": "3.12.4"
  }
 },
 "nbformat": 4,
 "nbformat_minor": 2
}
